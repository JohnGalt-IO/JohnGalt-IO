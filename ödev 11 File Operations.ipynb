{
 "cells": [
  {
   "cell_type": "markdown",
   "metadata": {},
   "source": [
    "1.Seçeceğiniz herhangi bir şiiri bilgisayarına .txt dosyası olarak kaydedin. Şiirin kaç dizeden oluştuğunu hesaplayın."
   ]
  },
  {
   "cell_type": "code",
   "execution_count": 16,
   "metadata": {},
   "outputs": [
    {
     "name": "stdout",
     "output_type": "stream",
     "text": [
      "number of row in poem is 67\n"
     ]
    }
   ],
   "source": [
    "file = open(\"Saate_Bakmak_Edip_Cansever.txt\",\"r\",encoding='utf8')\n",
    "counter = 0\n",
    "liste = []\n",
    "for line in file:\n",
    "    if line !=\"\\n\":\n",
    "        liste.append(line)\n",
    "print(f\"number of row in poem is {len(liste)}\")"
   ]
  },
  {
   "cell_type": "markdown",
   "metadata": {},
   "source": [
    "2.Yeni bir dosyaya her şiirdeki her dizenin ilk kelimesini yazdırın."
   ]
  },
  {
   "cell_type": "code",
   "execution_count": 34,
   "metadata": {},
   "outputs": [],
   "source": [
    "file2 = open(\"Saate_Bakmak_Edip_Cansever_ilk_satirlar.txt\",\"w\",encoding='utf8')\n",
    "for i in liste:\n",
    "    file2.write(f\"{i.split()[0]}\\n\")"
   ]
  }
 ],
 "metadata": {
  "kernelspec": {
   "display_name": "Python 3",
   "language": "python",
   "name": "python3"
  },
  "language_info": {
   "codemirror_mode": {
    "name": "ipython",
    "version": 3
   },
   "file_extension": ".py",
   "mimetype": "text/x-python",
   "name": "python",
   "nbconvert_exporter": "python",
   "pygments_lexer": "ipython3",
   "version": "3.8.5"
  }
 },
 "nbformat": 4,
 "nbformat_minor": 4
}
